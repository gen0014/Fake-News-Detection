{
 "cells": [
  {
   "cell_type": "code",
   "execution_count": 1,
   "id": "49ee130e",
   "metadata": {},
   "outputs": [],
   "source": [
    "import pandas as pd\n",
    "df = pd.read_csv('Fake.csv')\n",
    "df['label'] = 0  # Fake news\n",
    "\n",
    "df_real = pd.read_csv('True.csv')\n",
    "df_real['label'] = 1  # Real news\n",
    "\n",
    "data = pd.concat([df, df_real], axis=0).sample(frac=1).reset_index(drop=True)\n"
   ]
  },
  {
   "cell_type": "code",
   "execution_count": 2,
   "id": "981e0aac",
   "metadata": {},
   "outputs": [
    {
     "data": {
      "text/html": [
       "<div>\n",
       "<style scoped>\n",
       "    .dataframe tbody tr th:only-of-type {\n",
       "        vertical-align: middle;\n",
       "    }\n",
       "\n",
       "    .dataframe tbody tr th {\n",
       "        vertical-align: top;\n",
       "    }\n",
       "\n",
       "    .dataframe thead th {\n",
       "        text-align: right;\n",
       "    }\n",
       "</style>\n",
       "<table border=\"1\" class=\"dataframe\">\n",
       "  <thead>\n",
       "    <tr style=\"text-align: right;\">\n",
       "      <th></th>\n",
       "      <th>title</th>\n",
       "      <th>text</th>\n",
       "      <th>subject</th>\n",
       "      <th>date</th>\n",
       "      <th>label</th>\n",
       "    </tr>\n",
       "  </thead>\n",
       "  <tbody>\n",
       "    <tr>\n",
       "      <th>0</th>\n",
       "      <td>Obamacare Vs Trumpcare Meme DESTROYS GOP’s He...</td>\n",
       "      <td>Donald Trump and the Republican Party s push t...</td>\n",
       "      <td>News</td>\n",
       "      <td>March 7, 2017</td>\n",
       "      <td>0</td>\n",
       "    </tr>\n",
       "    <tr>\n",
       "      <th>1</th>\n",
       "      <td>UPDATE: WHY UNIV OF MICHIGAN REPLACED SCHEDULE...</td>\n",
       "      <td>HUGE NEWS: The head coach of the University of...</td>\n",
       "      <td>politics</td>\n",
       "      <td>Apr 8, 2015</td>\n",
       "      <td>0</td>\n",
       "    </tr>\n",
       "    <tr>\n",
       "      <th>2</th>\n",
       "      <td>Suicide attack targets area southeast of Baghdad</td>\n",
       "      <td>BAGHDAD (Reuters) - Two attackers shot several...</td>\n",
       "      <td>worldnews</td>\n",
       "      <td>November 27, 2017</td>\n",
       "      <td>1</td>\n",
       "    </tr>\n",
       "    <tr>\n",
       "      <th>3</th>\n",
       "      <td>PANIC! REUTERS/IPSOS Will Radically Change Way...</td>\n",
       "      <td>B..b..but That can t be right Maybe we should ...</td>\n",
       "      <td>politics</td>\n",
       "      <td>Jul 30, 2016</td>\n",
       "      <td>0</td>\n",
       "    </tr>\n",
       "    <tr>\n",
       "      <th>4</th>\n",
       "      <td>U.N. refugee agency hopes resettlement resumes...</td>\n",
       "      <td>GENEVA (Reuters) - The United Nations refugee ...</td>\n",
       "      <td>politicsNews</td>\n",
       "      <td>January 30, 2017</td>\n",
       "      <td>1</td>\n",
       "    </tr>\n",
       "  </tbody>\n",
       "</table>\n",
       "</div>"
      ],
      "text/plain": [
       "                                               title  \\\n",
       "0   Obamacare Vs Trumpcare Meme DESTROYS GOP’s He...   \n",
       "1  UPDATE: WHY UNIV OF MICHIGAN REPLACED SCHEDULE...   \n",
       "2   Suicide attack targets area southeast of Baghdad   \n",
       "3  PANIC! REUTERS/IPSOS Will Radically Change Way...   \n",
       "4  U.N. refugee agency hopes resettlement resumes...   \n",
       "\n",
       "                                                text       subject  \\\n",
       "0  Donald Trump and the Republican Party s push t...          News   \n",
       "1  HUGE NEWS: The head coach of the University of...      politics   \n",
       "2  BAGHDAD (Reuters) - Two attackers shot several...     worldnews   \n",
       "3  B..b..but That can t be right Maybe we should ...      politics   \n",
       "4  GENEVA (Reuters) - The United Nations refugee ...  politicsNews   \n",
       "\n",
       "                 date  label  \n",
       "0       March 7, 2017      0  \n",
       "1         Apr 8, 2015      0  \n",
       "2  November 27, 2017       1  \n",
       "3        Jul 30, 2016      0  \n",
       "4   January 30, 2017       1  "
      ]
     },
     "execution_count": 2,
     "metadata": {},
     "output_type": "execute_result"
    }
   ],
   "source": [
    "data.head()"
   ]
  },
  {
   "cell_type": "code",
   "execution_count": 3,
   "id": "bbe0b137",
   "metadata": {},
   "outputs": [
    {
     "name": "stderr",
     "output_type": "stream",
     "text": [
      "[nltk_data] Downloading package stopwords to C:\\Users\\Genius\n",
      "[nltk_data]     Khunte\\AppData\\Roaming\\nltk_data...\n",
      "[nltk_data]   Package stopwords is already up-to-date!\n"
     ]
    }
   ],
   "source": [
    "import nltk\n",
    "from nltk.corpus import stopwords\n",
    "from nltk.stem import PorterStemmer\n",
    "import re\n",
    "\n",
    "nltk.download('stopwords')\n",
    "stop_words = set(stopwords.words('english'))\n",
    "stemmer = PorterStemmer()\n",
    "\n",
    "def clean_text(text):\n",
    "    text = re.sub(r'[^a-zA-Z]', ' ', text)\n",
    "    text = text.lower().split()\n",
    "    text = [stemmer.stem(word) for word in text if word not in stop_words]\n",
    "    return ' '.join(text)\n",
    "\n",
    "data['text_clean'] = data['text'].apply(clean_text)\n",
    "\n"
   ]
  },
  {
   "cell_type": "code",
   "execution_count": 4,
   "id": "7ce9383e",
   "metadata": {},
   "outputs": [
    {
     "data": {
      "text/plain": [
       "0        donald trump republican parti push repeal repl...\n",
       "1        huge news head coach univers michigan footbal ...\n",
       "2        baghdad reuter two attack shot sever civilian ...\n",
       "3        b b right mayb chang way poll reuter ipso poll...\n",
       "4        geneva reuter unit nation refuge agenc voic al...\n",
       "                               ...                        \n",
       "44893                                                     \n",
       "44894               http www youtub com watch v rur pyr ax\n",
       "44895                                                     \n",
       "44896    austin texa reuter bill would restrict access ...\n",
       "44897    stori liber new york time hyster rex tillerson...\n",
       "Name: text_clean, Length: 44898, dtype: object"
      ]
     },
     "execution_count": 4,
     "metadata": {},
     "output_type": "execute_result"
    }
   ],
   "source": [
    "data['text_clean']"
   ]
  },
  {
   "cell_type": "code",
   "execution_count": 5,
   "id": "f84fdc5d",
   "metadata": {},
   "outputs": [],
   "source": [
    "from sklearn.feature_extraction.text import TfidfVectorizer\n",
    "\n",
    "vectorizer = TfidfVectorizer(max_features=5000)\n",
    "X = vectorizer.fit_transform(data['text_clean'])\n",
    "y = data['label']\n"
   ]
  },
  {
   "cell_type": "code",
   "execution_count": 6,
   "id": "f4e0950d",
   "metadata": {},
   "outputs": [],
   "source": [
    "from sklearn.model_selection import train_test_split\n",
    "\n",
    "X_train, X_test, y_train, y_test = train_test_split(X, y, test_size=0.2, random_state=42)\n"
   ]
  },
  {
   "cell_type": "code",
   "execution_count": 7,
   "id": "f3353945",
   "metadata": {},
   "outputs": [
    {
     "name": "stdout",
     "output_type": "stream",
     "text": [
      "Accuracy: 0.9977728285077951\n",
      "              precision    recall  f1-score   support\n",
      "\n",
      "           0       1.00      1.00      1.00      4720\n",
      "           1       1.00      1.00      1.00      4260\n",
      "\n",
      "    accuracy                           1.00      8980\n",
      "   macro avg       1.00      1.00      1.00      8980\n",
      "weighted avg       1.00      1.00      1.00      8980\n",
      "\n"
     ]
    }
   ],
   "source": [
    "from sklearn.ensemble import RandomForestClassifier\n",
    "from sklearn.metrics import classification_report, accuracy_score\n",
    "\n",
    "model = RandomForestClassifier()\n",
    "model.fit(X_train, y_train)\n",
    "\n",
    "y_pred = model.predict(X_test)\n",
    "print(\"Accuracy:\", accuracy_score(y_test, y_pred))\n",
    "print(classification_report(y_test, y_pred))\n"
   ]
  },
  {
   "cell_type": "code",
   "execution_count": 8,
   "id": "33d950ce",
   "metadata": {},
   "outputs": [],
   "source": [
    "import pickle\n",
    "pickle.dump(model, open('fake_news_model.pkl', 'wb'))\n",
    "pickle.dump(vectorizer, open('vectorizer.pkl', 'wb'))\n"
   ]
  },
  {
   "cell_type": "code",
   "execution_count": null,
   "id": "d9ddfd60",
   "metadata": {},
   "outputs": [],
   "source": []
  }
 ],
 "metadata": {
  "kernelspec": {
   "display_name": "Python 3",
   "language": "python",
   "name": "python3"
  },
  "language_info": {
   "codemirror_mode": {
    "name": "ipython",
    "version": 3
   },
   "file_extension": ".py",
   "mimetype": "text/x-python",
   "name": "python",
   "nbconvert_exporter": "python",
   "pygments_lexer": "ipython3",
   "version": "3.8.10"
  }
 },
 "nbformat": 4,
 "nbformat_minor": 5
}
